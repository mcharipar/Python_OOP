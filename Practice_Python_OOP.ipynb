{
 "cells": [
  {
   "cell_type": "markdown",
   "id": "c94c2d70-7fbd-4229-8bd2-981d679635cd",
   "metadata": {
    "tags": []
   },
   "source": [
    "# On OOP with Python"
   ]
  },
  {
   "cell_type": "markdown",
   "id": "940baddf-cf6b-4406-bf37-e5113c2ee2b3",
   "metadata": {
    "jp-MarkdownHeadingCollapsed": true,
    "tags": []
   },
   "source": [
    "## Some Useful Code Blocks for Reference"
   ]
  },
  {
   "cell_type": "markdown",
   "id": "4a5dc3cf-4133-4c95-9034-d091f5dbe8a1",
   "metadata": {
    "jp-MarkdownHeadingCollapsed": true,
    "tags": []
   },
   "source": [
    "### Using Arbitrary (Keyword) Arguments\n",
    "https://www.w3schools.com/python/python_functions.asp"
   ]
  },
  {
   "cell_type": "markdown",
   "id": "6d997caf-f72e-4c88-a345-40f07b00a85b",
   "metadata": {},
   "source": [
    "Arbitrary Arguments, *args\n",
    "\\\n",
    "If you do not know how many arguments that will be passed into your function, add a `*` before the parameter name in the function definition.\n",
    "\n",
    "This way the function will receive a *tuple* of arguments, and can access the items accordingly:"
   ]
  },
  {
   "cell_type": "code",
   "execution_count": 127,
   "id": "358351aa-a3f7-4ca8-8c0a-dc6387e2cef6",
   "metadata": {},
   "outputs": [
    {
     "name": "stdout",
     "output_type": "stream",
     "text": [
      "The youngest child is Elon\n"
     ]
    }
   ],
   "source": [
    "# Example\n",
    "# If the number of arguments is unknown, add a * before the parameter name:\n",
    "\n",
    "def my_function(*kids):\n",
    "  print(\"The youngest child is \" + kids[-1])\n",
    "\n",
    "my_function(\"Bill\", \"Linus Torvalds\", \"Elon\")"
   ]
  },
  {
   "cell_type": "markdown",
   "id": "5b1d7188-5f8c-4b8e-8d0d-3cd8bed14708",
   "metadata": {},
   "source": [
    "Arbitrary Keyword Arguments, **kwargs\n",
    "\\\n",
    "If you do not know how many keyword arguments that will be passed into your function, add two asterisk: ** before the parameter name in the function definition.\n",
    "\n",
    "This way the function will receive a *dictionary* of arguments, and can access the items accordingly:"
   ]
  },
  {
   "cell_type": "code",
   "execution_count": 129,
   "id": "62ed2edd-adac-4ccb-bdaf-04b70d812968",
   "metadata": {},
   "outputs": [
    {
     "name": "stdout",
     "output_type": "stream",
     "text": [
      "His last name is Torvalds\n"
     ]
    }
   ],
   "source": [
    "# Example\n",
    "# If the number of keyword arguments is unknown, add a double ** before the parameter name:\n",
    "\n",
    "def my_function(**kid):\n",
    "  print(\"His last name is \" + kid[\"lname\"])\n",
    "\n",
    "my_function(fname = \"Linus\", lname = \"Torvalds\")"
   ]
  },
  {
   "cell_type": "markdown",
   "id": "0a97cecb-4066-42ed-a8b8-3ef0adc9234c",
   "metadata": {
    "jp-MarkdownHeadingCollapsed": true,
    "tags": []
   },
   "source": [
    "### Using Dotenv for Api Keys"
   ]
  },
  {
   "cell_type": "code",
   "execution_count": null,
   "id": "64df6c5a-8035-4a6c-b10c-16f680a618d3",
   "metadata": {},
   "outputs": [],
   "source": [
    "# from dotenv import load_dotenv\n",
    "# import os\n",
    "\n",
    "# https://anaconda.org/conda-forge/python-dotenv\n",
    "# !yes | conda install -c conda-forge python-dotenv\n",
    "# load_dotenv()\n",
    "# api_key = os.getenv(\"API_KEY\")"
   ]
  },
  {
   "cell_type": "markdown",
   "id": "a18c1b62-a8e5-44ee-8f03-3e5cf5773c35",
   "metadata": {
    "jp-MarkdownHeadingCollapsed": true,
    "tags": []
   },
   "source": [
    "### Using Pathlib for OS Agnostic File Paths\n",
    "https://docs.python.org/3/library/pathlib.html"
   ]
  },
  {
   "cell_type": "code",
   "execution_count": 3,
   "id": "a25691f3-2228-46ef-9196-9286b6ef3fea",
   "metadata": {
    "tags": []
   },
   "outputs": [],
   "source": [
    "from pathlib import Path\n",
    "\n",
    "p = Path('Python_Notes.pdf')"
   ]
  },
  {
   "cell_type": "code",
   "execution_count": 4,
   "id": "4b68a4f5-08d5-4788-98c0-23bc05dfa6a2",
   "metadata": {},
   "outputs": [
    {
     "data": {
      "text/plain": [
       "True"
      ]
     },
     "execution_count": 4,
     "metadata": {},
     "output_type": "execute_result"
    }
   ],
   "source": [
    "p.exists()"
   ]
  },
  {
   "cell_type": "markdown",
   "id": "c6428317-deed-430e-8f7f-3971b1d1d355",
   "metadata": {
    "jp-MarkdownHeadingCollapsed": true,
    "tags": []
   },
   "source": [
    "### Various Ways to Open a File"
   ]
  },
  {
   "cell_type": "code",
   "execution_count": 8,
   "id": "dcc02aa6-7a9a-43ac-929b-519aa40b4993",
   "metadata": {},
   "outputs": [],
   "source": [
    "# import subprocess\n",
    "# subprocess.Popen([p],shell=True)\n",
    "# # OR\n",
    "# import webbrowser\n",
    "# webbrowser.open_new(p)\n",
    "# # OR\n",
    "# import os\n",
    "# os.startfile(p)"
   ]
  },
  {
   "cell_type": "markdown",
   "id": "7cb20bf3-de23-4f42-a0d0-fa4fbe53a6c2",
   "metadata": {
    "jp-MarkdownHeadingCollapsed": true,
    "tags": []
   },
   "source": [
    "### Open PDF or Image Within a Notebook"
   ]
  },
  {
   "cell_type": "code",
   "execution_count": 6,
   "id": "01d1c6ee-d620-403a-9ecb-0186588719f5",
   "metadata": {},
   "outputs": [
    {
     "name": "stdout",
     "output_type": "stream",
     "text": [
      "\n",
      "    Generic class to embed an iframe in an IPython notebook\n",
      "    \n"
     ]
    }
   ],
   "source": [
    "from IPython.display import IFrame\n",
    "print(IFrame.__doc__)"
   ]
  },
  {
   "cell_type": "code",
   "execution_count": 7,
   "id": "208d68f8-db37-4979-9027-c6711102d28b",
   "metadata": {},
   "outputs": [
    {
     "data": {
      "text/html": [
       "\n",
       "        <iframe\n",
       "            width=\"1000\"\n",
       "            height=\"1500\"\n",
       "            src=\"Python_Notes.pdf\"\n",
       "            frameborder=\"0\"\n",
       "            allowfullscreen\n",
       "            \n",
       "        ></iframe>\n",
       "        "
      ],
      "text/plain": [
       "<IPython.lib.display.IFrame at 0x239594e3be0>"
      ]
     },
     "execution_count": 7,
     "metadata": {},
     "output_type": "execute_result"
    }
   ],
   "source": [
    "from pathlib import Path\n",
    "p = Path('Python_Notes.pdf')\n",
    "\n",
    "# IFrame(p, width=900, height=900)\n",
    "IFrame(p, width=1000, height=1500)"
   ]
  },
  {
   "cell_type": "code",
   "execution_count": 8,
   "id": "f8ed4655-8910-45d6-b2c0-4d672f673acf",
   "metadata": {},
   "outputs": [
    {
     "data": {
      "text/html": [
       "\n",
       "        <iframe\n",
       "            width=\"300\"\n",
       "            height=\"190\"\n",
       "            src=\"visuals\\Anaconda_Image.jpg\"\n",
       "            frameborder=\"0\"\n",
       "            allowfullscreen\n",
       "            \n",
       "        ></iframe>\n",
       "        "
      ],
      "text/plain": [
       "<IPython.lib.display.IFrame at 0x239594ec2b0>"
      ]
     },
     "execution_count": 8,
     "metadata": {},
     "output_type": "execute_result"
    }
   ],
   "source": [
    "q = Path('visuals/Anaconda_Image.jpg')\n",
    "IFrame(q, width=300, height=190)"
   ]
  },
  {
   "cell_type": "markdown",
   "id": "3e1ecb96-3ba3-44c3-a424-1cd010f94698",
   "metadata": {
    "jp-MarkdownHeadingCollapsed": true,
    "tags": []
   },
   "source": [
    "### Manually Iterating Through an Iterable Object"
   ]
  },
  {
   "cell_type": "code",
   "execution_count": 48,
   "id": "be162871-6e4b-4758-b49e-0b5e9cf4fd92",
   "metadata": {},
   "outputs": [
    {
     "name": "stdout",
     "output_type": "stream",
     "text": [
      "<list_iterator object at 0x000002088DCE0220>\n"
     ]
    }
   ],
   "source": [
    "i = [3,4,5,2,2]\n",
    "\n",
    "print(i.__iter__())"
   ]
  },
  {
   "cell_type": "code",
   "execution_count": 49,
   "id": "024307f6-af0b-4ee5-bd74-76381ddc2b5f",
   "metadata": {},
   "outputs": [],
   "source": [
    "x = iter(i)"
   ]
  },
  {
   "cell_type": "code",
   "execution_count": 50,
   "id": "75227890-4b39-423d-859e-eb37bb87c07e",
   "metadata": {},
   "outputs": [
    {
     "name": "stdout",
     "output_type": "stream",
     "text": [
      "3\n",
      "3\n"
     ]
    }
   ],
   "source": [
    "print(next(x))\n",
    "print(i[0])"
   ]
  },
  {
   "cell_type": "code",
   "execution_count": 51,
   "id": "6ff0e2f1-41d6-441d-94d4-c7db3566e795",
   "metadata": {},
   "outputs": [
    {
     "name": "stdout",
     "output_type": "stream",
     "text": [
      "4\n",
      "4\n"
     ]
    }
   ],
   "source": [
    "print(next(x))\n",
    "print(i[1])"
   ]
  },
  {
   "cell_type": "markdown",
   "id": "11054d74-106b-4fc8-b380-424a655e4580",
   "metadata": {
    "jp-MarkdownHeadingCollapsed": true,
    "tags": []
   },
   "source": [
    "### Saving PDf Of Matplotlib Plot"
   ]
  },
  {
   "cell_type": "code",
   "execution_count": 41,
   "id": "7852f21f-b17f-4758-bb87-07a9d0e2a733",
   "metadata": {},
   "outputs": [
    {
     "data": {
      "image/png": "[encoded data removed]",
      "text/plain": [
       "<Figure size 828x612 with 1 Axes>"
      ]
     },
     "metadata": {
      "needs_background": "light"
     },
     "output_type": "display_data"
    }
   ],
   "source": [
    "# https://matplotlib.org/stable/api/backend_pdf_api.html\n",
    "import matplotlib.backends.backend_pdf\n",
    "from pathlib import Path\n",
    "import pandas as pd\n",
    "import matplotlib.pyplot as plt\n",
    "\n",
    "# Some example DF\n",
    "df = pd.DataFrame(\n",
    "{\"a\" : [4, 5, 6],\n",
    "\"b\" : [7, 8, 9],\n",
    "\"c\" : [10, 11, 12]},\n",
    "index = [1, 2, 3])\n",
    "\n",
    "# Set the path and file name\n",
    "filename = Path(r'visuals\\image.pdf')\n",
    "pdf = matplotlib.backends.backend_pdf.PdfPages(filename)\n",
    "\n",
    "df.plot()\n",
    "fig = plt.gcf()\n",
    "plt.gcf().set_size_inches(11.5, 8.5)\n",
    "# Save Output to a PDF\n",
    "pdf.savefig(fig)"
   ]
  },
  {
   "cell_type": "code",
   "execution_count": 42,
   "id": "0d76ae47-1ed2-42a3-b15d-8f20bae037af",
   "metadata": {},
   "outputs": [
    {
     "data": {
      "image/png": "[encoded data removed]",
      "text/plain": [
       "<Figure size 828x612 with 1 Axes>"
      ]
     },
     "metadata": {
      "needs_background": "light"
     },
     "output_type": "display_data"
    }
   ],
   "source": [
    "# Multiple plots can be saved to the PDF before closing it.\n",
    "df.a.plot()\n",
    "fig = plt.gcf()\n",
    "plt.gcf().set_size_inches(11.5, 8.5)\n",
    "pdf.savefig(fig)\n",
    "pdf.close()"
   ]
  },
  {
   "cell_type": "code",
   "execution_count": 40,
   "id": "0b679a67-481b-4c64-bec5-975ee780777c",
   "metadata": {},
   "outputs": [
    {
     "data": {
      "text/html": [
       "\n",
       "        <iframe\n",
       "            width=\"800\"\n",
       "            height=\"1240\"\n",
       "            src=\"visuals\\image.pdf\"\n",
       "            frameborder=\"0\"\n",
       "            allowfullscreen\n",
       "            \n",
       "        ></iframe>\n",
       "        "
      ],
      "text/plain": [
       "<IPython.lib.display.IFrame at 0x2395ee50280>"
      ]
     },
     "execution_count": 40,
     "metadata": {},
     "output_type": "execute_result"
    }
   ],
   "source": [
    "from pathlib import Path\n",
    "r = Path(filename)\n",
    "from IPython.display import IFrame\n",
    "IFrame(r, width=800, height=1240)"
   ]
  },
  {
   "cell_type": "code",
   "execution_count": null,
   "id": "380947d4-8aab-4bd9-bed0-1ea413aa93c5",
   "metadata": {},
   "outputs": [],
   "source": []
  },
  {
   "cell_type": "code",
   "execution_count": null,
   "id": "8b2f7853-8ff1-4776-ab0c-3c43287b91cf",
   "metadata": {},
   "outputs": [],
   "source": []
  },
  {
   "cell_type": "markdown",
   "id": "2c4e23d6-ec3b-451f-b6c0-4699f05ad4de",
   "metadata": {
    "jp-MarkdownHeadingCollapsed": true,
    "tags": []
   },
   "source": [
    "### Pulling Data From Yahoo Finiance without an API Key\n",
    "### and Setting up for ML/DL "
   ]
  },
  {
   "cell_type": "code",
   "execution_count": 65,
   "id": "54c2eb01-f61b-417a-ba27-6f9a07d330aa",
   "metadata": {},
   "outputs": [
    {
     "data": {
      "text/html": [
       "<div>\n",
       "<style scoped>\n",
       "    .dataframe tbody tr th:only-of-type {\n",
       "        vertical-align: middle;\n",
       "    }\n",
       "\n",
       "    .dataframe tbody tr th {\n",
       "        vertical-align: top;\n",
       "    }\n",
       "\n",
       "    .dataframe thead th {\n",
       "        text-align: right;\n",
       "    }\n",
       "</style>\n",
       "<table border=\"1\" class=\"dataframe\">\n",
       "  <thead>\n",
       "    <tr style=\"text-align: right;\">\n",
       "      <th></th>\n",
       "      <th>SQ</th>\n",
       "      <th>GS</th>\n",
       "      <th>GDOT</th>\n",
       "      <th>MELI</th>\n",
       "      <th>BAC</th>\n",
       "      <th>PYPL</th>\n",
       "      <th>NVDA</th>\n",
       "      <th>CME</th>\n",
       "      <th>DOCU</th>\n",
       "    </tr>\n",
       "    <tr>\n",
       "      <th>Date</th>\n",
       "      <th></th>\n",
       "      <th></th>\n",
       "      <th></th>\n",
       "      <th></th>\n",
       "      <th></th>\n",
       "      <th></th>\n",
       "      <th></th>\n",
       "      <th></th>\n",
       "      <th></th>\n",
       "    </tr>\n",
       "  </thead>\n",
       "  <tbody>\n",
       "    <tr>\n",
       "      <th>2021-11-03</th>\n",
       "      <td>252.479996</td>\n",
       "      <td>417.899994</td>\n",
       "      <td>43.680000</td>\n",
       "      <td>1531.930054</td>\n",
       "      <td>48.369999</td>\n",
       "      <td>230.380005</td>\n",
       "      <td>265.980011</td>\n",
       "      <td>220.440002</td>\n",
       "      <td>283.209991</td>\n",
       "    </tr>\n",
       "    <tr>\n",
       "      <th>2021-11-04</th>\n",
       "      <td>247.460007</td>\n",
       "      <td>408.070007</td>\n",
       "      <td>44.549999</td>\n",
       "      <td>1556.489990</td>\n",
       "      <td>47.330002</td>\n",
       "      <td>228.220001</td>\n",
       "      <td>298.010010</td>\n",
       "      <td>220.570007</td>\n",
       "      <td>284.109985</td>\n",
       "    </tr>\n",
       "    <tr>\n",
       "      <th>2021-11-05</th>\n",
       "      <td>237.380005</td>\n",
       "      <td>407.079987</td>\n",
       "      <td>44.040001</td>\n",
       "      <td>1629.760010</td>\n",
       "      <td>46.970001</td>\n",
       "      <td>225.779999</td>\n",
       "      <td>297.519989</td>\n",
       "      <td>221.710007</td>\n",
       "      <td>267.489990</td>\n",
       "    </tr>\n",
       "    <tr>\n",
       "      <th>2021-11-08</th>\n",
       "      <td>236.770004</td>\n",
       "      <td>408.339996</td>\n",
       "      <td>43.439999</td>\n",
       "      <td>1650.000000</td>\n",
       "      <td>47.340000</td>\n",
       "      <td>229.419998</td>\n",
       "      <td>308.040009</td>\n",
       "      <td>220.669998</td>\n",
       "      <td>273.910004</td>\n",
       "    </tr>\n",
       "    <tr>\n",
       "      <th>2021-11-09</th>\n",
       "      <td>230.860001</td>\n",
       "      <td>401.070007</td>\n",
       "      <td>43.990002</td>\n",
       "      <td>1700.920044</td>\n",
       "      <td>46.455002</td>\n",
       "      <td>202.786697</td>\n",
       "      <td>301.100006</td>\n",
       "      <td>221.100006</td>\n",
       "      <td>274.640015</td>\n",
       "    </tr>\n",
       "  </tbody>\n",
       "</table>\n",
       "</div>"
      ],
      "text/plain": [
       "                    SQ          GS       GDOT         MELI        BAC  \\\n",
       "Date                                                                    \n",
       "2021-11-03  252.479996  417.899994  43.680000  1531.930054  48.369999   \n",
       "2021-11-04  247.460007  408.070007  44.549999  1556.489990  47.330002   \n",
       "2021-11-05  237.380005  407.079987  44.040001  1629.760010  46.970001   \n",
       "2021-11-08  236.770004  408.339996  43.439999  1650.000000  47.340000   \n",
       "2021-11-09  230.860001  401.070007  43.990002  1700.920044  46.455002   \n",
       "\n",
       "                  PYPL        NVDA         CME        DOCU  \n",
       "Date                                                        \n",
       "2021-11-03  230.380005  265.980011  220.440002  283.209991  \n",
       "2021-11-04  228.220001  298.010010  220.570007  284.109985  \n",
       "2021-11-05  225.779999  297.519989  221.710007  267.489990  \n",
       "2021-11-08  229.419998  308.040009  220.669998  273.910004  \n",
       "2021-11-09  202.786697  301.100006  221.100006  274.640015  "
      ]
     },
     "execution_count": 65,
     "metadata": {},
     "output_type": "execute_result"
    }
   ],
   "source": [
    "import numpy as np\n",
    "import matplotlib.pyplot as plt\n",
    "import pandas as pd\n",
    "# !yes | pip install yfinance\n",
    "import yfinance as yf\n",
    "\n",
    "# %matplotlib inline\n",
    "\n",
    "# SELF DOCUMENTING\n",
    "ticker_list = ['SQ',\n",
    "'GS',\n",
    "'GDOT',\n",
    "'MELI',\n",
    "'BAC',\n",
    "'PYPL',\n",
    "'NVDA',\n",
    "'CME',\n",
    "'DOCU']\n",
    "\n",
    "# ticker_list\n",
    "\n",
    "#CREATES A DATAFRAME OF THE CLOSE PRICE OF THE ticker_list STARTING FROM 2018\n",
    "x = 0\n",
    "while x in range(len(ticker_list)):\n",
    "    if x == 0:\n",
    "        df = yf.Ticker(ticker_list[x]).history(start='2018-01-01')['Close'].rename(ticker_list[x])    \n",
    "    else:\n",
    "        df1 = yf.Ticker(ticker_list[x]).history(start='2018-01-01')['Close'].rename(ticker_list[x])\n",
    "        df = pd.concat([df, df1], axis=1)\n",
    "    x += 1\n",
    "\n",
    "df.tail()"
   ]
  },
  {
   "cell_type": "code",
   "execution_count": 66,
   "id": "fc241b56-3c0d-4b9f-9c43-ac43687499d8",
   "metadata": {},
   "outputs": [
    {
     "data": {
      "text/plain": [
       "<AxesSubplot:xlabel='Date'>"
      ]
     },
     "execution_count": 66,
     "metadata": {},
     "output_type": "execute_result"
    },
    {
     "data": {
      "image/png": "[encoded data removed]",
      "text/plain": [
       "<Figure size 1440x720 with 1 Axes>"
      ]
     },
     "metadata": {
      "needs_background": "light"
     },
     "output_type": "display_data"
    }
   ],
   "source": [
    "df.plot(figsize=(20,10))"
   ]
  },
  {
   "cell_type": "code",
   "execution_count": 67,
   "id": "a49395fa-1886-436f-ac4f-4c4c679d6fb6",
   "metadata": {},
   "outputs": [
    {
     "data": {
      "text/plain": [
       "SQ       0\n",
       "GS       0\n",
       "GDOT     0\n",
       "MELI     0\n",
       "BAC      0\n",
       "PYPL     0\n",
       "NVDA     0\n",
       "CME      0\n",
       "DOCU    80\n",
       "dtype: int64"
      ]
     },
     "execution_count": 67,
     "metadata": {},
     "output_type": "execute_result"
    }
   ],
   "source": [
    "# Looking for missing values\n",
    "df.isnull().sum()"
   ]
  },
  {
   "cell_type": "code",
   "execution_count": 68,
   "id": "e40fed03-8b1b-4bf8-8399-ba722d18410d",
   "metadata": {},
   "outputs": [
    {
     "data": {
      "text/plain": [
       "<AxesSubplot:xlabel='Date'>"
      ]
     },
     "execution_count": 68,
     "metadata": {},
     "output_type": "execute_result"
    },
    {
     "data": {
      "image/png": "[encoded data removed]",
      "text/plain": [
       "<Figure size 432x288 with 1 Axes>"
      ]
     },
     "metadata": {
      "needs_background": "light"
     },
     "output_type": "display_data"
    }
   ],
   "source": [
    "df.iloc[:,-1].plot()"
   ]
  },
  {
   "cell_type": "code",
   "execution_count": 69,
   "id": "cec77526-2139-48f9-b034-1c652efe1161",
   "metadata": {},
   "outputs": [
    {
     "data": {
      "text/plain": [
       "SQ      0\n",
       "GS      0\n",
       "GDOT    0\n",
       "MELI    0\n",
       "BAC     0\n",
       "PYPL    0\n",
       "NVDA    0\n",
       "CME     0\n",
       "DOCU    0\n",
       "dtype: int64"
      ]
     },
     "execution_count": 69,
     "metadata": {},
     "output_type": "execute_result"
    }
   ],
   "source": [
    "# Filling missing values with the first non null\n",
    "df = df.fillna(method ='bfill')\n",
    "\n",
    "df.isnull().sum()"
   ]
  },
  {
   "cell_type": "code",
   "execution_count": 70,
   "id": "b781e750-cae0-411b-bf14-3146876d7eaa",
   "metadata": {},
   "outputs": [
    {
     "data": {
      "text/plain": [
       "<AxesSubplot:xlabel='Date'>"
      ]
     },
     "execution_count": 70,
     "metadata": {},
     "output_type": "execute_result"
    },
    {
     "data": {
      "image/png": "[encoded data removed]",
      "text/plain": [
       "<Figure size 432x288 with 1 Axes>"
      ]
     },
     "metadata": {
      "needs_background": "light"
     },
     "output_type": "display_data"
    }
   ],
   "source": [
    "df.iloc[:,-1].plot()"
   ]
  },
  {
   "cell_type": "code",
   "execution_count": 71,
   "id": "cf7b1d59-5861-42c3-ba4f-f66a1e2dcc12",
   "metadata": {},
   "outputs": [],
   "source": [
    "# Set the random seed for reproducibility\n",
    "# Note: This is used for model prototyping, but it is good practice to comment this out and run multiple experiments to evaluate your model.\n",
    "from numpy.random import seed\n",
    "\n",
    "seed(1)\n",
    "\n",
    "# !pip install --upgrade tensorflow\n",
    "# try this one if you get a pyparsing error\n",
    "# !conda update -c anaconda pyparsing\n",
    "from tensorflow import random\n",
    "\n",
    "random.set_seed(2)"
   ]
  },
  {
   "cell_type": "markdown",
   "id": "38a0c72f-d0fb-4534-a7a0-f063da3614c6",
   "metadata": {
    "tags": []
   },
   "source": [
    "#### We can also try autoML & other libraries that may be easier and more accurate.\n",
    "https://www.automl.org/automl/ #lists several top-notch autoML libs.\n",
    "\\\n",
    "https://www.activestate.com/blog/the-top-10-automl-python-packages-to-automate-your-machine-learning-tasks/ #additional tools\n",
    "\\\n",
    "https://facebook.github.io/prophet/docs/quick_start.html #forecast procedure, extremely east to use.\n",
    "\\\n",
    "https://github.com/ProsusAI/finBERT #pre-trained NLP model to analyze sentiment of financial text."
   ]
  },
  {
   "cell_type": "markdown",
   "id": "cb84d484-0580-4bdd-9efb-51221720568e",
   "metadata": {
    "jp-MarkdownHeadingCollapsed": true,
    "tags": []
   },
   "source": [
    "### Converting a Notebook to a Python Script & Running it From the CLI\n",
    "### *Be sure surrond all standalone variables with `print()`* "
   ]
  },
  {
   "cell_type": "code",
   "execution_count": 9,
   "id": "91496327-413d-4bc3-b24c-82f5cf1fa91d",
   "metadata": {},
   "outputs": [
    {
     "data": {
      "text/html": [
       "\n",
       "        <iframe\n",
       "            width=\"800\"\n",
       "            height=\"920\"\n",
       "            src=\"visuals\\Converting_to_python_script_example.png\"\n",
       "            frameborder=\"0\"\n",
       "            allowfullscreen\n",
       "            \n",
       "        ></iframe>\n",
       "        "
      ],
      "text/plain": [
       "<IPython.lib.display.IFrame at 0x23959440580>"
      ]
     },
     "execution_count": 9,
     "metadata": {},
     "output_type": "execute_result"
    }
   ],
   "source": [
    "# You can convert a notebook to a script from the terminal with this:\n",
    "# !jupyter nbconvert --to script my_notebook.ipynb\n",
    "\n",
    "# Alternatively you can just click on:\n",
    "    # File -> Save and Export Notebook As... -> Executable Script \n",
    "    \n",
    "t = Path('visuals/Converting_to_python_script_example.png')\n",
    "IFrame(t, width=800, height=920)"
   ]
  },
  {
   "cell_type": "markdown",
   "id": "9bd3091a-9ef3-4aa5-8ec6-340733d13490",
   "metadata": {
    "tags": []
   },
   "source": [
    "#### To execute a script from your cli you'll need to follow one of these formats\n",
    "#### after navigating to the dir of the python script."
   ]
  },
  {
   "cell_type": "code",
   "execution_count": null,
   "id": "e52ba75d-5e8d-4ed6-b9f3-fde2d82cf068",
   "metadata": {},
   "outputs": [],
   "source": [
    "# py my_python_files_name_replaced_here.py"
   ]
  },
  {
   "cell_type": "code",
   "execution_count": null,
   "id": "a9769a86-2bfd-45c1-bcbb-b008ea2cf371",
   "metadata": {},
   "outputs": [],
   "source": [
    "# python my_python_files_name_replaced_here.py"
   ]
  },
  {
   "cell_type": "code",
   "execution_count": null,
   "id": "ab696e27-21f8-47a8-bb90-a2d9f0a3a1e3",
   "metadata": {},
   "outputs": [],
   "source": [
    "# python3 my_python_files_name_replaced_here.py"
   ]
  },
  {
   "cell_type": "markdown",
   "id": "0f0b8bc3-e267-4926-b2a1-a963976bcc14",
   "metadata": {},
   "source": [
    "You can even execute them within scripts or notepooks by using the ! before the line."
   ]
  },
  {
   "cell_type": "markdown",
   "id": "fa2ae9b1-8776-4b66-a68e-08f5ce94096b",
   "metadata": {
    "jp-MarkdownHeadingCollapsed": true,
    "tags": []
   },
   "source": [
    "### Using `conda`"
   ]
  },
  {
   "cell_type": "code",
   "execution_count": 2,
   "id": "16cbdc9b-4457-4812-81c4-64729ef5fde2",
   "metadata": {},
   "outputs": [
    {
     "data": {
      "text/html": [
       "\n",
       "        <iframe\n",
       "            width=\"1000\"\n",
       "            height=\"1500\"\n",
       "            src=\"conda-cheatsheet.pdf\"\n",
       "            frameborder=\"0\"\n",
       "            allowfullscreen\n",
       "            \n",
       "        ></iframe>\n",
       "        "
      ],
      "text/plain": [
       "<IPython.lib.display.IFrame at 0x1c7d8c0db80>"
      ]
     },
     "execution_count": 2,
     "metadata": {},
     "output_type": "execute_result"
    }
   ],
   "source": [
    "from IPython.display import IFrame\n",
    "from pathlib import Path\n",
    "p = Path('conda-cheatsheet.pdf')\n",
    "IFrame(p, width=1000, height=1500)"
   ]
  },
  {
   "cell_type": "markdown",
   "id": "dbb0daf0-99d1-452f-bd8c-2860be991108",
   "metadata": {},
   "source": [
    "#### Best Practices Include\n",
    "#### - Creating a New Conda ENV for Each New Project\n",
    "#### - Creating an Installation Guide to Reproduce the Conda ENV on All Major Platforms (Mac, Win, Linux)"
   ]
  },
  {
   "cell_type": "markdown",
   "id": "9f6ff818-1bc1-4ff4-834f-5136fd370c7e",
   "metadata": {},
   "source": [
    "Say you have a good environment that you would like to use for many different projects named `pyvizenv`\n",
    "\\\n",
    "You would want to do this create the new conda ENV:"
   ]
  },
  {
   "cell_type": "code",
   "execution_count": null,
   "id": "195a4311-bfc8-4bed-9660-6ac623cf8091",
   "metadata": {},
   "outputs": [],
   "source": [
    "# conda create --clone pyvizenv --name replace_this_with_the_new_name_to_be_named"
   ]
  },
  {
   "cell_type": "markdown",
   "id": "d58178e1-cc67-4b06-9fdd-2fb9e568554f",
   "metadata": {},
   "source": [
    "From here you would want to `conda` or `pip` in any new packages,\n",
    "\\\n",
    "it's advised to keep track of them to make installation guides easier to produce."
   ]
  },
  {
   "cell_type": "markdown",
   "id": "71dffee3-d714-44ea-8350-4e26c70b6beb",
   "metadata": {
    "jp-MarkdownHeadingCollapsed": true,
    "tags": []
   },
   "source": [
    "## Python OOP: Classes"
   ]
  },
  {
   "cell_type": "code",
   "execution_count": 1,
   "id": "d534cefd-1156-49a6-ad2d-7469710cd9ae",
   "metadata": {},
   "outputs": [],
   "source": [
    "# *Note: Methods like .__init__() and .__str__() are called dunder methods because they begin and end with\n",
    "# double underscores."
   ]
  },
  {
   "cell_type": "code",
   "execution_count": 27,
   "id": "172d03ca-1a98-4fc5-93e1-db75ffaec03a",
   "metadata": {},
   "outputs": [],
   "source": [
    "# https://realpython.com/python3-object-oriented-programming/\n",
    "# see also https://en.wikibooks.org/wiki/Python_Programming/Classes\n",
    "# Python class names are written in CapitalizedWords notation by convention. \n",
    "# For example, a class for a specific breed of dog like the Jack Russell Terrier would be written as JackRussellTerrier.\n",
    "\n",
    "class StudentClass:\n",
    "    \"\"\"This is a Doc string.\n",
    "    It's basically creating your own Documentation.\n",
    "    For when you press tab or shift + tab\"\"\"\n",
    "    \n",
    "    \n",
    "    # Every time a new Student object is created, .__init__() sets the initial state of the object by assigning the values of \n",
    "    # the object’s properties. That is, .__init__() initializes each new instance of the class.\n",
    "    def __init__(self, student_fname, student_lname, student_age, student_absences):\n",
    "        # You can give .__init__() any number of parameters, but the first parameter will always be a variable called self.\n",
    "        self.student_fname = student_fname\n",
    "        self.student_lname = student_lname\n",
    "        self.student_age = student_age\n",
    "        self.student_absences = student_absences\n",
    "        # Attributes created in .__init__() are called instance attributes. An instance attribute’s value is specific to a \n",
    "        # particular instance of the class. All Student objects have a fname, lname, age and an absences, \n",
    "        # but the values for each of these attributes will vary depending on the Student instance."
   ]
  },
  {
   "cell_type": "code",
   "execution_count": 11,
   "id": "ac4ba95c-d3a9-49f6-a501-0c88e11b9aec",
   "metadata": {},
   "outputs": [
    {
     "data": {
      "text/html": [
       "\n",
       "        <iframe\n",
       "            width=\"800\"\n",
       "            height=\"190\"\n",
       "            src=\"visuals\\doc_string_example.png\"\n",
       "            frameborder=\"0\"\n",
       "            allowfullscreen\n",
       "            \n",
       "        ></iframe>\n",
       "        "
      ],
      "text/plain": [
       "<IPython.lib.display.IFrame at 0x23959507f10>"
      ]
     },
     "execution_count": 11,
     "metadata": {},
     "output_type": "execute_result"
    }
   ],
   "source": [
    "# Check your Doc String\n",
    "\n",
    "# StudentClass # Press shift + tab at the end of StudentClass to see the Doc string we created above\n",
    "from pathlib import Path\n",
    "r = Path('visuals/doc_string_example.png')\n",
    "from IPython.display import IFrame\n",
    "IFrame(r, width=800, height=190)"
   ]
  },
  {
   "cell_type": "code",
   "execution_count": 29,
   "id": "e9a42daa-4fa5-4ac9-af39-b3b910b9ce43",
   "metadata": {},
   "outputs": [
    {
     "ename": "TypeError",
     "evalue": "__init__() missing 4 required positional arguments: 'student_fname', 'student_lname', 'student_age', and 'student_absences'",
     "output_type": "error",
     "traceback": [
      "\u001b[1;31m---------------------------------------------------------------------------\u001b[0m",
      "\u001b[1;31mTypeError\u001b[0m                                 Traceback (most recent call last)",
      "\u001b[1;32m~\\AppData\\Local\\Temp/ipykernel_13164/4016569032.py\u001b[0m in \u001b[0;36m<module>\u001b[1;34m\u001b[0m\n\u001b[0;32m      1\u001b[0m \u001b[1;31m# Instantiate a class object\u001b[0m\u001b[1;33m\u001b[0m\u001b[1;33m\u001b[0m\u001b[1;33m\u001b[0m\u001b[0m\n\u001b[0;32m      2\u001b[0m \u001b[1;33m\u001b[0m\u001b[0m\n\u001b[1;32m----> 3\u001b[1;33m \u001b[0mStudentClass\u001b[0m\u001b[1;33m(\u001b[0m\u001b[1;33m)\u001b[0m\u001b[1;33m\u001b[0m\u001b[1;33m\u001b[0m\u001b[0m\n\u001b[0m\u001b[0;32m      4\u001b[0m \u001b[1;31m# Look at the error being generated, we need to pass it arguments.\u001b[0m\u001b[1;33m\u001b[0m\u001b[1;33m\u001b[0m\u001b[1;33m\u001b[0m\u001b[0m\n",
      "\u001b[1;31mTypeError\u001b[0m: __init__() missing 4 required positional arguments: 'student_fname', 'student_lname', 'student_age', and 'student_absences'"
     ]
    }
   ],
   "source": [
    "# Instantiate a class object\n",
    "\n",
    "StudentClass()\n",
    "# Look at the error being generated, we need to pass it arguments."
   ]
  },
  {
   "cell_type": "code",
   "execution_count": 30,
   "id": "41329a75-ff0a-401e-a619-c1f7201f517a",
   "metadata": {},
   "outputs": [
    {
     "name": "stdout",
     "output_type": "stream",
     "text": [
      "<__main__.StudentClass object at 0x000001FCE533ABB0> <class '__main__.StudentClass'>\n"
     ]
    }
   ],
   "source": [
    "student_mark = StudentClass('Mark', 'Charipar', '33', .68)\n",
    "print(student_mark, type(student_mark)) # Look at the object type."
   ]
  },
  {
   "cell_type": "code",
   "execution_count": 31,
   "id": "6df85ace-f2ee-4b2c-bb63-8f64cd4c42f6",
   "metadata": {},
   "outputs": [
    {
     "name": "stdout",
     "output_type": "stream",
     "text": [
      "Mark <class 'str'>\n"
     ]
    }
   ],
   "source": [
    "marks_first_name = student_mark.student_fname\n",
    "print(marks_first_name, type(marks_first_name))"
   ]
  },
  {
   "cell_type": "code",
   "execution_count": 32,
   "id": "90161162-3051-40e9-b98b-da74891bddc2",
   "metadata": {},
   "outputs": [
    {
     "name": "stdout",
     "output_type": "stream",
     "text": [
      "Bill\n"
     ]
    }
   ],
   "source": [
    "# Python objects are mutable by default\n",
    "student_mark.student_fname = 'Bill'\n",
    "marks_first_name = student_mark.student_fname\n",
    "print(marks_first_name)"
   ]
  },
  {
   "cell_type": "code",
   "execution_count": 33,
   "id": "1ced8ae0-a5a0-44b4-b2d5-ed30eb60fa74",
   "metadata": {},
   "outputs": [],
   "source": [
    "# Instance Methods\n",
    "\n",
    "class StudentClass:\n",
    "    \"\"\"A class that creates a student object.\n",
    "    student_fname is the students first name.\n",
    "    student_lname is the students last name.\n",
    "    student_age is the students age.\n",
    "    student_absences is the cummulative number of the students absences.\"\"\"\n",
    "    \n",
    "    def __init__(self, student_fname, student_lname, student_age, student_absences):\n",
    "        # You can give .__init__() any number of parameters, but the first parameter will always be a variable called self.\n",
    "        # In Python, you both declare and define attributes inside the class __init__()\n",
    "        self.student_fname = student_fname\n",
    "        self.student_lname = student_lname\n",
    "        self.student_age = student_age\n",
    "        self.student_absences = student_absences\n",
    "        \n",
    "    def student_info(self):\n",
    "        \"\"\"Method that returns info on the student object.\"\"\"\n",
    "        return '{} {} is {} years old and has a total of {} absences.'.format(self.student_fname, self.student_lname, \n",
    "                                                                            self.student_age, self.student_absences)\n",
    "    def status(self, student_status):\n",
    "        \"\"\"Function that returns a student objects status.\"\"\"\n",
    "        return '{} {}\\'s status is {}.'.format(self.student_fname, self.student_lname, student_status)\n",
    "    \n",
    "    # This method will change the default print() output when instantiating the class object\n",
    "    def __str__(self):\n",
    "        return 'This is a __str__ method being called.'\n",
    "    \n",
    "    def term(self, student_term):\n",
    "        return '{} {} is enrolled in the {} term.'.format(self.student_fname, self.student_lname, student_term)"
   ]
  },
  {
   "cell_type": "code",
   "execution_count": 34,
   "id": "a1080ada-4ad0-4760-8074-f30201ae1fbf",
   "metadata": {},
   "outputs": [
    {
     "data": {
      "text/plain": [
       "<__main__.StudentClass at 0x1fce5353250>"
      ]
     },
     "execution_count": 34,
     "metadata": {},
     "output_type": "execute_result"
    }
   ],
   "source": [
    "StudentClass('Mark', 'Charipar', '33', .68)"
   ]
  },
  {
   "cell_type": "code",
   "execution_count": 35,
   "id": "2d79893f-097e-4502-8a0b-fe9f90da02a6",
   "metadata": {},
   "outputs": [
    {
     "name": "stdout",
     "output_type": "stream",
     "text": [
      "This is a __str__ method being called.\n"
     ]
    }
   ],
   "source": [
    "print(StudentClass('Mark', 'Charipar', '33', .68)) # Here we are calling .__str__ by default, \n",
    "#                                                    if there is no .__str__ it returns the above output"
   ]
  },
  {
   "cell_type": "code",
   "execution_count": 36,
   "id": "630fcce8-a6ac-4e24-a305-93575e2b79a6",
   "metadata": {},
   "outputs": [
    {
     "name": "stdout",
     "output_type": "stream",
     "text": [
      "Mark Charipar is 33 years old and has a total of 0.68 absences.\n"
     ]
    }
   ],
   "source": [
    "student_mark = StudentClass('Mark', 'Charipar', '33', .68)\n",
    "print(student_mark.student_info())"
   ]
  },
  {
   "cell_type": "code",
   "execution_count": 37,
   "id": "3c955bcb-881d-42aa-9d4a-4f3526c2802e",
   "metadata": {},
   "outputs": [
    {
     "name": "stdout",
     "output_type": "stream",
     "text": [
      "This is a __str__ method being called.\n"
     ]
    }
   ],
   "source": [
    "# Here We are calling the __str__ method instead.\n",
    "print(student_mark)"
   ]
  },
  {
   "cell_type": "code",
   "execution_count": 38,
   "id": "fa4e0e2d-dd76-45bd-a8e3-5713734a2dd4",
   "metadata": {},
   "outputs": [
    {
     "name": "stdout",
     "output_type": "stream",
     "text": [
      "Mark Charipar's status is active.\n"
     ]
    }
   ],
   "source": [
    "print(student_mark.status('active'))"
   ]
  },
  {
   "cell_type": "code",
   "execution_count": 39,
   "id": "d6b4daa9-46e2-4ec9-ac05-fe3c4d7224eb",
   "metadata": {},
   "outputs": [
    {
     "name": "stdout",
     "output_type": "stream",
     "text": [
      "Mark Charipar is enrolled in the Aug. 2021 term.\n"
     ]
    }
   ],
   "source": [
    "print(student_mark.term('Aug. 2021'))"
   ]
  },
  {
   "cell_type": "code",
   "execution_count": 40,
   "id": "d18bf1d4-7f7c-4416-85a3-d4a5e4d998a7",
   "metadata": {},
   "outputs": [
    {
     "name": "stdout",
     "output_type": "stream",
     "text": [
      "Is student_mark an object of the StudentClass class?\n",
      "\tTrue: <class '__main__.StudentClass'>\n"
     ]
    }
   ],
   "source": [
    "print('Is student_mark an object of the StudentClass class?\\n\\t' + str(isinstance(student_mark, StudentClass)) \n",
    "      + ': ' +str(type(student_mark)))"
   ]
  },
  {
   "cell_type": "markdown",
   "id": "9cda485b-34e3-4b4a-8e9a-c36b4a19b134",
   "metadata": {},
   "source": [
    "### Parent Classes vs Child Classes"
   ]
  },
  {
   "cell_type": "code",
   "execution_count": 41,
   "id": "b87b9128-22de-40dd-a2f8-8ae3b75a7883",
   "metadata": {},
   "outputs": [],
   "source": [
    "class SecondSemester(StudentClass): # Notice we are passing the StudentClass class as a parameter.\n",
    "    \"\"\"A Child Class of the StudentClass.\n",
    "    It inherits the attributes of the Parent Class, StudentClass.\"\"\"\n",
    "    \n",
    "    def next_term(self, student_term = 'Jan. 2022'):\n",
    "        \"\"\"A default constructor method that returns the start of the next semester.\"\"\"\n",
    "        return '{} {} is enrolled in the {} term.'.format(self.student_fname, self.student_lname, student_term)"
   ]
  },
  {
   "cell_type": "code",
   "execution_count": 42,
   "id": "f4f60d7d-8a5c-4752-a316-29ed6b88c23c",
   "metadata": {},
   "outputs": [
    {
     "name": "stdout",
     "output_type": "stream",
     "text": [
      "Bill Johnson is enrolled in the Jan. 2022 term.\n"
     ]
    }
   ],
   "source": [
    "future_fintech_student = SecondSemester('Bill', 'Johnson', '72', 0).next_term() # We call the next_term method of the child class here.\n",
    "print(future_fintech_student)"
   ]
  },
  {
   "cell_type": "code",
   "execution_count": 43,
   "id": "5c28a6e4-a7ff-4578-b922-b6fd0d824526",
   "metadata": {},
   "outputs": [
    {
     "name": "stdout",
     "output_type": "stream",
     "text": [
      "<class '__main__.SecondSemester'>\n",
      "True\n"
     ]
    }
   ],
   "source": [
    "future_fintech_student = SecondSemester('Bill', 'Johnson', '72', 0) \n",
    "print(type(future_fintech_student))\n",
    "print(isinstance(future_fintech_student, SecondSemester))"
   ]
  },
  {
   "cell_type": "code",
   "execution_count": 44,
   "id": "cd76901d-f9c2-4a4b-80f9-330fc098cfcb",
   "metadata": {},
   "outputs": [
    {
     "name": "stdout",
     "output_type": "stream",
     "text": [
      "<class '__main__.StudentClass'>\n",
      "False\n"
     ]
    }
   ],
   "source": [
    "print(type(student_mark))\n",
    "print(isinstance(student_mark, SecondSemester))"
   ]
  },
  {
   "cell_type": "code",
   "execution_count": 58,
   "id": "dd52e9dc-0ab1-4bba-8329-da83b20c0ac0",
   "metadata": {},
   "outputs": [
    {
     "name": "stdout",
     "output_type": "stream",
     "text": [
      "<class '__main__.StudentClass'>\n",
      "Is the SecondSemester class a Child Class?:\n",
      "\tTrue\n"
     ]
    }
   ],
   "source": [
    "print(type(student_mark))\n",
    "print('Is the SecondSemester class a Child Class?:\\n\\t' + str(issubclass(SecondSemester, StudentClass)))"
   ]
  },
  {
   "cell_type": "markdown",
   "id": "1b6e530a-3a9a-478a-a80a-bb51447c1c01",
   "metadata": {
    "jp-MarkdownHeadingCollapsed": true,
    "tags": []
   },
   "source": [
    "## Python OOP: Simple Imports"
   ]
  },
  {
   "cell_type": "code",
   "execution_count": 10,
   "id": "f937b5e0-c2bd-4d54-a454-618e354abefe",
   "metadata": {},
   "outputs": [
    {
     "data": {
      "text/html": [
       "\n",
       "        <iframe\n",
       "            width=\"800\"\n",
       "            height=\"200\"\n",
       "            src=\"visuals\\simple_import.png\"\n",
       "            frameborder=\"0\"\n",
       "            allowfullscreen\n",
       "            \n",
       "        ></iframe>\n",
       "        "
      ],
      "text/plain": [
       "<IPython.lib.display.IFrame at 0x23959507820>"
      ]
     },
     "execution_count": 10,
     "metadata": {},
     "output_type": "execute_result"
    }
   ],
   "source": [
    "from pathlib import Path\n",
    "r = Path('visuals/simple_import.png')\n",
    "from IPython.display import IFrame\n",
    "IFrame(r, width=800, height=200)"
   ]
  },
  {
   "cell_type": "code",
   "execution_count": 5,
   "id": "dbcf7022-8f06-4c92-a742-3421938f4caf",
   "metadata": {},
   "outputs": [],
   "source": [
    "import example"
   ]
  },
  {
   "cell_type": "code",
   "execution_count": 6,
   "id": "21e3421d-5bed-45e6-8969-3009db086197",
   "metadata": {},
   "outputs": [
    {
     "name": "stdout",
     "output_type": "stream",
     "text": [
      "Note we don't have to use () becasue we are calling an attribute:\n",
      "\n",
      "If our instructor says it, it likely is correct.\n"
     ]
    }
   ],
   "source": [
    "print('Note we don\\'t have to use () becasue we are calling an attribute:\\n\\n' + example.simple_example)"
   ]
  },
  {
   "cell_type": "markdown",
   "id": "d819e7a2-bd62-46d3-a22e-3aec01048542",
   "metadata": {},
   "source": [
    "When we use `import` weare looking for scripts in the current directory or where we have the rest of our packages.\n",
    "\\\n",
    "The below output shows where its looking. It's going to vary on different systems and has to do with the `PYTHONPATH `."
   ]
  },
  {
   "cell_type": "code",
   "execution_count": 8,
   "id": "118ff3a8-0dae-4cb9-ae6d-fd90189c71cd",
   "metadata": {},
   "outputs": [
    {
     "data": {
      "text/plain": [
       "['E:\\\\Trilogy\\\\BackEnd\\\\Python_OOP',\n",
       " 'C:\\\\ProgramData\\\\Anaconda3\\\\python38.zip',\n",
       " 'C:\\\\ProgramData\\\\Anaconda3\\\\DLLs',\n",
       " 'C:\\\\ProgramData\\\\Anaconda3\\\\lib',\n",
       " 'C:\\\\ProgramData\\\\Anaconda3',\n",
       " '',\n",
       " 'C:\\\\ProgramData\\\\Anaconda3\\\\lib\\\\site-packages',\n",
       " 'C:\\\\ProgramData\\\\Anaconda3\\\\lib\\\\site-packages\\\\locket-0.2.1-py3.8.egg',\n",
       " 'C:\\\\ProgramData\\\\Anaconda3\\\\lib\\\\site-packages\\\\win32',\n",
       " 'C:\\\\ProgramData\\\\Anaconda3\\\\lib\\\\site-packages\\\\win32\\\\lib',\n",
       " 'C:\\\\ProgramData\\\\Anaconda3\\\\lib\\\\site-packages\\\\Pythonwin',\n",
       " 'C:\\\\ProgramData\\\\Anaconda3\\\\lib\\\\site-packages\\\\IPython\\\\extensions',\n",
       " 'C:\\\\Users\\\\mchar\\\\.ipython']"
      ]
     },
     "execution_count": 8,
     "metadata": {},
     "output_type": "execute_result"
    }
   ],
   "source": [
    "import sys\n",
    "sys.path"
   ]
  },
  {
   "cell_type": "markdown",
   "id": "34f8d7fa-9fa4-4576-abf3-f6bc5fad8dec",
   "metadata": {},
   "source": [
    "We can even append to this `PYTHONPATH` list so we can make it look in another location."
   ]
  },
  {
   "cell_type": "code",
   "execution_count": 25,
   "id": "6b254fa7-b9c9-4a53-9b38-697e49146ffb",
   "metadata": {},
   "outputs": [
    {
     "data": {
      "text/plain": [
       "'E:\\\\Trilogy\\\\BackEnd\\\\Python_OOP\\\\example_folder'"
      ]
     },
     "execution_count": 25,
     "metadata": {},
     "output_type": "execute_result"
    }
   ],
   "source": [
    "ex_path = Path(str(Path.cwd()) + '/' + 'example_folder')\n",
    "str(ex_path)"
   ]
  },
  {
   "cell_type": "code",
   "execution_count": 31,
   "id": "7bf7013b-eb9a-4e7b-91a6-13ab96ff5c71",
   "metadata": {},
   "outputs": [],
   "source": [
    "sys.path.append(str(ex_path))"
   ]
  },
  {
   "cell_type": "code",
   "execution_count": 32,
   "id": "5523bea7-1ae2-41b9-a3d3-fb19af62c117",
   "metadata": {},
   "outputs": [
    {
     "data": {
      "text/plain": [
       "['E:\\\\Trilogy\\\\BackEnd\\\\Python_OOP',\n",
       " 'C:\\\\ProgramData\\\\Anaconda3\\\\python38.zip',\n",
       " 'C:\\\\ProgramData\\\\Anaconda3\\\\DLLs',\n",
       " 'C:\\\\ProgramData\\\\Anaconda3\\\\lib',\n",
       " 'C:\\\\ProgramData\\\\Anaconda3',\n",
       " '',\n",
       " 'C:\\\\ProgramData\\\\Anaconda3\\\\lib\\\\site-packages',\n",
       " 'C:\\\\ProgramData\\\\Anaconda3\\\\lib\\\\site-packages\\\\locket-0.2.1-py3.8.egg',\n",
       " 'C:\\\\ProgramData\\\\Anaconda3\\\\lib\\\\site-packages\\\\win32',\n",
       " 'C:\\\\ProgramData\\\\Anaconda3\\\\lib\\\\site-packages\\\\win32\\\\lib',\n",
       " 'C:\\\\ProgramData\\\\Anaconda3\\\\lib\\\\site-packages\\\\Pythonwin',\n",
       " 'C:\\\\ProgramData\\\\Anaconda3\\\\lib\\\\site-packages\\\\IPython\\\\extensions',\n",
       " 'C:\\\\Users\\\\mchar\\\\.ipython',\n",
       " 'E:\\\\Trilogy\\\\BackEnd\\\\Python_OOP\\\\example_folder']"
      ]
     },
     "execution_count": 32,
     "metadata": {},
     "output_type": "execute_result"
    }
   ],
   "source": [
    "sys.path"
   ]
  },
  {
   "cell_type": "code",
   "execution_count": 39,
   "id": "78935378-00a4-47f6-89cd-5cb30bd056c6",
   "metadata": {},
   "outputs": [
    {
     "name": "stdout",
     "output_type": "stream",
     "text": [
      "This is the updated example2.py in another folder.\n",
      "\n",
      "Here is where example is located: E:\\Trilogy\\BackEnd\\Python_OOP\\example_folder\\example2.py\n"
     ]
    }
   ],
   "source": [
    "import example2\n",
    "print(example2.simple_example + '\\n\\nHere is where example is located: ' + str(example2.__file__))"
   ]
  },
  {
   "cell_type": "markdown",
   "id": "35763a2a-95f5-4c48-9ab1-149a2d50834d",
   "metadata": {},
   "source": [
    "We can also do this by treating it like a package."
   ]
  },
  {
   "cell_type": "code",
   "execution_count": 4,
   "id": "8e5e1193-35f0-48d3-914c-03956e132525",
   "metadata": {},
   "outputs": [],
   "source": [
    "import example_folder.example2 as ex2"
   ]
  },
  {
   "cell_type": "code",
   "execution_count": 6,
   "id": "6e3aeaf9-cfb9-4367-ae12-68adf23b18cb",
   "metadata": {},
   "outputs": [
    {
     "name": "stdout",
     "output_type": "stream",
     "text": [
      "This is the updated example2.py in another folder. Except now we trated it as a package.\n"
     ]
    }
   ],
   "source": [
    "print(ex2.simple_example + ' Except now we trated it as a package.')"
   ]
  },
  {
   "cell_type": "markdown",
   "id": "cb6adece-8050-4926-b687-ebc4f585d1f1",
   "metadata": {
    "jp-MarkdownHeadingCollapsed": true,
    "tags": []
   },
   "source": [
    "## Python OOP: Importing Classes"
   ]
  },
  {
   "cell_type": "code",
   "execution_count": 1,
   "id": "e923288f-1447-49ca-8a1b-df776cec7697",
   "metadata": {},
   "outputs": [],
   "source": [
    "# Here we are calling studentclass.py\n",
    "import studentclass"
   ]
  },
  {
   "cell_type": "code",
   "execution_count": 2,
   "id": "19fe17d0-bd52-4062-91a5-018b0b5bbc63",
   "metadata": {},
   "outputs": [],
   "source": [
    "# And here we are calling the StudentClass() class within studentclass.py using 'dot operator' '.'\n",
    "# studentclass.StudentClass()"
   ]
  },
  {
   "cell_type": "code",
   "execution_count": 12,
   "id": "0505e803-bd0f-4255-9d7b-2e26f02f2eaa",
   "metadata": {},
   "outputs": [
    {
     "data": {
      "text/html": [
       "\n",
       "        <iframe\n",
       "            width=\"1200\"\n",
       "            height=\"460\"\n",
       "            src=\"visuals\\doc_string_ex_2.png\"\n",
       "            frameborder=\"0\"\n",
       "            allowfullscreen\n",
       "            \n",
       "        ></iframe>\n",
       "        "
      ],
      "text/plain": [
       "<IPython.lib.display.IFrame at 0x23959507b50>"
      ]
     },
     "execution_count": 12,
     "metadata": {},
     "output_type": "execute_result"
    }
   ],
   "source": [
    "# StudentClass # Press shift + tab at the end of StudentClass to see the Doc string we created above\n",
    "from pathlib import Path\n",
    "r = Path('visuals/doc_string_ex_2.png')\n",
    "from IPython.display import IFrame\n",
    "IFrame(r, width=1200, height=460)"
   ]
  },
  {
   "cell_type": "code",
   "execution_count": 4,
   "id": "f7e63917-5d1e-4d5f-aa8c-a37c7ea23d19",
   "metadata": {},
   "outputs": [
    {
     "data": {
      "text/plain": [
       "<studentclass.StudentClass at 0x1fce29e3c10>"
      ]
     },
     "execution_count": 4,
     "metadata": {},
     "output_type": "execute_result"
    }
   ],
   "source": [
    "# Now lets pass 4 parameters.\n",
    "studentclass.StudentClass('John', 'Doe', '28', '0')"
   ]
  },
  {
   "cell_type": "code",
   "execution_count": 5,
   "id": "f8a181db-57bd-4ca9-b4da-540f98234981",
   "metadata": {},
   "outputs": [
    {
     "name": "stdout",
     "output_type": "stream",
     "text": [
      "This returns the __str__ method. \n",
      "Notice that the __str__ method is called here.\n"
     ]
    }
   ],
   "source": [
    "# But we still need to make that instance of the class a variable\n",
    "student_john = studentclass.StudentClass('John', 'Doe', '28', '0')\n",
    "print(student_john , '\\nNotice that the __str__ method is called here.')"
   ]
  },
  {
   "cell_type": "code",
   "execution_count": 6,
   "id": "27201b78-9714-4ac3-acbd-4d2912159f51",
   "metadata": {},
   "outputs": [
    {
     "data": {
      "text/plain": [
       "{'student_fname': 'John',\n",
       " 'student_lname': 'Doe',\n",
       " 'student_age': '28',\n",
       " 'student_absences': '0'}"
      ]
     },
     "execution_count": 6,
     "metadata": {},
     "output_type": "execute_result"
    }
   ],
   "source": [
    "# We can also call in the .__dict__ dunder method to see the instance of the classes attributes.\n",
    "student_john.__dict__"
   ]
  },
  {
   "cell_type": "code",
   "execution_count": 17,
   "id": "61f25421-84c7-49f0-915f-4d691112d971",
   "metadata": {},
   "outputs": [
    {
     "data": {
      "text/plain": [
       "{'student_fname': 'John',\n",
       " 'student_lname': 'Doe',\n",
       " 'student_age': '28',\n",
       " 'student_absences': '0'}"
      ]
     },
     "execution_count": 17,
     "metadata": {},
     "output_type": "execute_result"
    }
   ],
   "source": [
    "# Calling vars() will do the same thing\n",
    "print(vars(student_john))"
   ]
  },
  {
   "cell_type": "code",
   "execution_count": 13,
   "id": "506dc06f-54ba-4890-992a-6d0b84e8830e",
   "metadata": {},
   "outputs": [
    {
     "data": {
      "text/html": [
       "\n",
       "        <iframe\n",
       "            width=\"800\"\n",
       "            height=\"300\"\n",
       "            src=\"visuals\\tab_with_dot_operator.png\"\n",
       "            frameborder=\"0\"\n",
       "            allowfullscreen\n",
       "            \n",
       "        ></iframe>\n",
       "        "
      ],
      "text/plain": [
       "<IPython.lib.display.IFrame at 0x23959507f70>"
      ]
     },
     "execution_count": 13,
     "metadata": {},
     "output_type": "execute_result"
    }
   ],
   "source": [
    "r = Path('visuals/tab_with_dot_operator.png')\n",
    "from IPython.display import IFrame\n",
    "IFrame(r, width=800, height=300)"
   ]
  },
  {
   "cell_type": "code",
   "execution_count": 8,
   "id": "13bf3c87-044d-4267-a455-ff28e98a977a",
   "metadata": {},
   "outputs": [],
   "source": [
    "# student_john."
   ]
  },
  {
   "cell_type": "code",
   "execution_count": 9,
   "id": "184a94d8-0307-4011-befc-457bf9c5a74f",
   "metadata": {},
   "outputs": [
    {
     "name": "stdout",
     "output_type": "stream",
     "text": [
      "<class 'method'> <class 'str'>\n",
      "<bound method StudentClass.student_info of <studentclass.StudentClass object at 0x000001FCE29E89D0>>\n",
      "John Doe is 28 years old and has a total of 0 absences.\n"
     ]
    }
   ],
   "source": [
    "# Don't forget to use '()' at the end of methods even if they don't have arguements.\n",
    "print(type(student_john.student_info), type(student_john.student_info()))\n",
    "print(student_john.student_info)\n",
    "print(student_john.student_info())"
   ]
  },
  {
   "cell_type": "code",
   "execution_count": 10,
   "id": "86990c9f-fcde-47bf-af64-83c23dc1a338",
   "metadata": {},
   "outputs": [
    {
     "data": {
      "text/plain": [
       "<studentclass.SecondSemester at 0x1fce2a8eaf0>"
      ]
     },
     "execution_count": 10,
     "metadata": {},
     "output_type": "execute_result"
    }
   ],
   "source": [
    "# Now we create an instance of the child class SecondSemester\n",
    "studentclass.SecondSemester('John', 'Smith', '41', 0)"
   ]
  },
  {
   "cell_type": "code",
   "execution_count": 11,
   "id": "a7490166-5ba3-4351-afa1-ba47809cca2d",
   "metadata": {},
   "outputs": [
    {
     "name": "stdout",
     "output_type": "stream",
     "text": [
      "This returns the __str__ method.\n"
     ]
    }
   ],
   "source": [
    "print(studentclass.SecondSemester('John', 'Smith', '41', 0))"
   ]
  },
  {
   "cell_type": "code",
   "execution_count": 12,
   "id": "3f71d7ce-0a38-424b-be32-8cdfc9c03570",
   "metadata": {},
   "outputs": [
    {
     "data": {
      "text/plain": [
       "<bound method SecondSemester.next_term of <studentclass.SecondSemester object at 0x000001FCE2A8EB20>>"
      ]
     },
     "execution_count": 12,
     "metadata": {},
     "output_type": "execute_result"
    }
   ],
   "source": [
    "studentclass.SecondSemester('John', 'Smith', '41', 0).next_term"
   ]
  },
  {
   "cell_type": "code",
   "execution_count": 13,
   "id": "efb2b868-a233-472c-9c90-f6cb2c49d2bb",
   "metadata": {},
   "outputs": [
    {
     "data": {
      "text/plain": [
       "'John Smith is enrolled in the Jan. 2022 term.'"
      ]
     },
     "execution_count": 13,
     "metadata": {},
     "output_type": "execute_result"
    }
   ],
   "source": [
    "studentclass.SecondSemester('John', 'Smith', '41', 0).next_term()"
   ]
  },
  {
   "cell_type": "code",
   "execution_count": 14,
   "id": "b1d69818-7384-421e-a81a-ae19be6a55fa",
   "metadata": {},
   "outputs": [],
   "source": [
    "student_john_term_two = studentclass.SecondSemester('John', 'Smith', '41', 0).next_term()"
   ]
  },
  {
   "cell_type": "code",
   "execution_count": 8,
   "id": "22f2930e-3583-4f11-b7dd-f291ea1edc91",
   "metadata": {},
   "outputs": [
    {
     "name": "stdout",
     "output_type": "stream",
     "text": [
      "Note we don't have to use () becasue we are calling an attribute:\n",
      "\n",
      "If our instructor says it, it likely is correct.\n"
     ]
    }
   ],
   "source": []
  },
  {
   "cell_type": "markdown",
   "id": "4580b474-68b1-49b0-ba55-6099ec5166ff",
   "metadata": {
    "jp-MarkdownHeadingCollapsed": true,
    "tags": []
   },
   "source": [
    "## Python OOP: Digging Deeper"
   ]
  },
  {
   "cell_type": "code",
   "execution_count": 36,
   "id": "ee37f4de-5c95-47c2-b908-5598927783f0",
   "metadata": {},
   "outputs": [],
   "source": [
    "# Here we are using an alias with our imported module.\n",
    "import studentclass as sc"
   ]
  },
  {
   "cell_type": "code",
   "execution_count": 67,
   "id": "84deef7e-1ca5-4f4e-a96d-496ae3276935",
   "metadata": {},
   "outputs": [
    {
     "data": {
      "text/plain": [
       "['SecondSemester',\n",
       " 'StudentClass',\n",
       " '__builtins__',\n",
       " '__cached__',\n",
       " '__doc__',\n",
       " '__file__',\n",
       " '__loader__',\n",
       " '__name__',\n",
       " '__package__',\n",
       " '__spec__']"
      ]
     },
     "execution_count": 67,
     "metadata": {},
     "output_type": "execute_result"
    }
   ],
   "source": [
    "# We can call dir() to look at what classes the studentclass.py contains\n",
    "dir(sc)"
   ]
  },
  {
   "cell_type": "markdown",
   "id": "6cfed276-1eb8-4f8d-8846-449ae81d5331",
   "metadata": {},
   "source": [
    "__builtins__\n",
    "\\\n",
    "This has to do with the builtin namespace and you likely will never need ot dig in here"
   ]
  },
  {
   "cell_type": "code",
   "execution_count": 96,
   "id": "ad4e1c44-dba1-4d49-ae6f-2ad53b568717",
   "metadata": {},
   "outputs": [],
   "source": [
    "# dir(sc.__builtins__)"
   ]
  },
  {
   "cell_type": "code",
   "execution_count": 94,
   "id": "9ee88c90-9c77-4e7c-a3a6-bfbd0c7f56ad",
   "metadata": {},
   "outputs": [],
   "source": [
    "# dir(__builtins__)"
   ]
  },
  {
   "cell_type": "code",
   "execution_count": null,
   "id": "b1f42393-9b73-4a88-b2a8-b67b106b1d93",
   "metadata": {},
   "outputs": [],
   "source": [
    "# globals()"
   ]
  },
  {
   "cell_type": "markdown",
   "id": "c194af59-f724-44fd-bedf-6f577be0d2b7",
   "metadata": {},
   "source": [
    "__cached__"
   ]
  },
  {
   "cell_type": "code",
   "execution_count": 76,
   "id": "b4fb9c51-6a75-469f-a68c-c3d8b92905ee",
   "metadata": {},
   "outputs": [
    {
     "data": {
      "text/plain": [
       "'E:\\\\Trilogy\\\\BackEnd\\\\Python_OOP\\\\__pycache__\\\\studentclass.cpython-38.pyc'"
      ]
     },
     "execution_count": 76,
     "metadata": {},
     "output_type": "execute_result"
    }
   ],
   "source": [
    "# This shows us the cached .pyc file.\n",
    "sc.__cached__"
   ]
  },
  {
   "cell_type": "code",
   "execution_count": 14,
   "id": "df75cd95-3978-43de-87dc-f2015b910bbc",
   "metadata": {},
   "outputs": [
    {
     "data": {
      "text/html": [
       "\n",
       "        <iframe\n",
       "            width=\"1200\"\n",
       "            height=\"460\"\n",
       "            src=\"visuals\\pycache_example.png\"\n",
       "            frameborder=\"0\"\n",
       "            allowfullscreen\n",
       "            \n",
       "        ></iframe>\n",
       "        "
      ],
      "text/plain": [
       "<IPython.lib.display.IFrame at 0x239595070d0>"
      ]
     },
     "execution_count": 14,
     "metadata": {},
     "output_type": "execute_result"
    }
   ],
   "source": [
    "from pathlib import Path\n",
    "r = Path('visuals/pycache_example.png')\n",
    "from IPython.display import IFrame\n",
    "IFrame(r, width=1200, height=460)"
   ]
  },
  {
   "cell_type": "code",
   "execution_count": 15,
   "id": "b6b5fec8-5212-4d99-a804-eeab37793a5e",
   "metadata": {},
   "outputs": [
    {
     "data": {
      "text/html": [
       "\n",
       "        <iframe\n",
       "            width=\"1200\"\n",
       "            height=\"190\"\n",
       "            src=\"visuals\\pyc_example.png\"\n",
       "            frameborder=\"0\"\n",
       "            allowfullscreen\n",
       "            \n",
       "        ></iframe>\n",
       "        "
      ],
      "text/plain": [
       "<IPython.lib.display.IFrame at 0x23959507220>"
      ]
     },
     "execution_count": 15,
     "metadata": {},
     "output_type": "execute_result"
    }
   ],
   "source": [
    "w = Path('visuals/pyc_example.png')\n",
    "IFrame(w, width=1200, height=190)"
   ]
  },
  {
   "cell_type": "markdown",
   "id": "8764673c-8b0b-4c13-a93c-6105b6a9c60f",
   "metadata": {},
   "source": [
    "https://www.tutorialspoint.com/What-are-pyc-files-in-Python\n",
    "\n",
    "\".pyc files are created by the Python interpreter when a .py file is imported. \n",
    "They contain the \"compiled bytecode\" of the imported module/program so that the\n",
    "\"translation\" from source code to bytecode (which only needs to be done once) \n",
    "can be skipped on subsequent imports if the .pyc is newer than the \n",
    "corresponding .py file, thus speeding startup a little. But it's still interpreted. \n",
    "Once the *.pyc file is generated, there is no need of *.py file, unless you edit it.\"\n",
    "- Rajendra Dharmkar"
   ]
  },
  {
   "cell_type": "markdown",
   "id": "3487ed8c-8e48-4b90-aca1-83d797b995ae",
   "metadata": {},
   "source": [
    "__doc__"
   ]
  },
  {
   "cell_type": "code",
   "execution_count": 104,
   "id": "2032c233-6f57-407f-acc9-c499ae84f815",
   "metadata": {},
   "outputs": [
    {
     "name": "stdout",
     "output_type": "stream",
     "text": [
      "The __doc__ dunder method will give you access to a class or methods docstring:\n",
      "\n",
      "A class that creates a student object.\n",
      "    student_fname is the students first name.\n",
      "    student_lname is the students last name.\n",
      "    student_age is the students age.\n",
      "    student_absences is the cummulative number of the students absences.\n"
     ]
    }
   ],
   "source": [
    "print('The __doc__ dunder method will give you access to a class or methods docstring:\\n\\n' \n",
    "      + sc.StudentClass.__doc__)"
   ]
  },
  {
   "cell_type": "code",
   "execution_count": 106,
   "id": "52342432-833b-4e4a-b934-d8da13682c20",
   "metadata": {},
   "outputs": [
    {
     "name": "stdout",
     "output_type": "stream",
     "text": [
      "We see it used again with a method now:\n",
      "\n",
      "Method that returns info on the student object.\n"
     ]
    }
   ],
   "source": [
    "print('We see it used again with a method now:\\n\\n' \n",
    "      + sc.StudentClass.student_info.__doc__)"
   ]
  },
  {
   "cell_type": "markdown",
   "id": "c27bedd1-7c0b-43d8-b8b2-4ddc28a2df54",
   "metadata": {},
   "source": [
    "We can use these docstrings to help us make some documentation easily using:\n",
    "\\\n",
    "https://www.sphinx-doc.org/en/master/"
   ]
  },
  {
   "cell_type": "markdown",
   "id": "27baf18d-ab25-4afc-b9f9-3c623df2ec28",
   "metadata": {},
   "source": [
    "__file__"
   ]
  },
  {
   "cell_type": "code",
   "execution_count": 110,
   "id": "e477fe9c-c524-4701-adb9-2627c65a3677",
   "metadata": {},
   "outputs": [
    {
     "name": "stdout",
     "output_type": "stream",
     "text": [
      "Here we get to see where the module is located:\n",
      "\n",
      "E:\\Trilogy\\BackEnd\\Python_OOP\\studentclass.py\n"
     ]
    }
   ],
   "source": [
    "print('Here we get to see where the module is located:\\n\\n' + str(sc.__file__))"
   ]
  },
  {
   "cell_type": "markdown",
   "id": "13235c91-79be-4525-be6d-cd346c179701",
   "metadata": {},
   "source": [
    "__loader__"
   ]
  },
  {
   "cell_type": "code",
   "execution_count": 114,
   "id": "5ad93e7e-519e-4e5c-8d5b-7acaa305be47",
   "metadata": {},
   "outputs": [
    {
     "name": "stdout",
     "output_type": "stream",
     "text": [
      "<_frozen_importlib_external.SourceFileLoader object at 0x000001FCE2A6DDF0>\n"
     ]
    }
   ],
   "source": [
    "print(sc.__loader__)"
   ]
  },
  {
   "cell_type": "code",
   "execution_count": 115,
   "id": "4a0139a9-1376-41f7-a552-26aaf3f2a9a0",
   "metadata": {},
   "outputs": [
    {
     "name": "stdout",
     "output_type": "stream",
     "text": [
      "True\n"
     ]
    }
   ],
   "source": [
    "# We only need to use __loader__ ever to see if a module used a custom loader, like this.\n",
    "print(hasattr(sc, '__loader__'))"
   ]
  },
  {
   "cell_type": "markdown",
   "id": "3bce70aa-88f5-4935-99be-882f2f0ad7f7",
   "metadata": {},
   "source": [
    "__name__"
   ]
  },
  {
   "cell_type": "code",
   "execution_count": 119,
   "id": "1eafeee2-bbb0-4c81-bd65-219ed3ebc1bc",
   "metadata": {},
   "outputs": [
    {
     "name": "stdout",
     "output_type": "stream",
     "text": [
      "studentclass\n"
     ]
    }
   ],
   "source": [
    "print(sc.__name__)"
   ]
  },
  {
   "cell_type": "markdown",
   "id": "ba8be6f8-493e-4342-90f9-db0ebcde4a60",
   "metadata": {},
   "source": [
    "This is used primarily in code that looks like this:"
   ]
  },
  {
   "cell_type": "code",
   "execution_count": null,
   "id": "567cee77-23f4-43a6-a78b-e9c95abd6495",
   "metadata": {},
   "outputs": [],
   "source": [
    "# if __name__ == \"__main__\":"
   ]
  },
  {
   "cell_type": "markdown",
   "id": "f61ea61a-0f60-4832-b178-b0c9e93c1108",
   "metadata": {},
   "source": [
    "We can use this when creating a package otherwise,\n",
    "it's useful in this case mostly:\n",
    "\n",
    "\"Sometimes you write a script with functions that might be useful in other scripts as well. In Python, you can import that script as a module in another script.\n",
    "\n",
    "Thanks to this special variable, you can decide whether you want to run the script. Or that you want to import the functions defined in the script.\"\n",
    "- Bert Carremans\n",
    "\\\n",
    "Data Scientist"
   ]
  },
  {
   "cell_type": "markdown",
   "id": "88e23161-4be4-4b84-a973-1c220910e374",
   "metadata": {},
   "source": [
    "Read more about it if needed:\n",
    "\\\n",
    "https://www.freecodecamp.org/news/whats-in-a-python-s-name-506262fe61e8/\n",
    "\\\n",
    "https://www.geeksforgeeks.org/__name__-special-variable-python/\n",
    "\\\n",
    "https://docs.python.org/3/library/__main__.html"
   ]
  },
  {
   "cell_type": "markdown",
   "id": "4fcf082b-a6ca-41cd-af1b-eb9e58b79c61",
   "metadata": {},
   "source": [
    "__package__"
   ]
  },
  {
   "cell_type": "markdown",
   "id": "1d84b840-bd96-4c1a-8aee-ce88a8d7bf80",
   "metadata": {},
   "source": [
    "A package is basically a folder that contains multiple modules, it makes things easier for us."
   ]
  },
  {
   "cell_type": "code",
   "execution_count": 7,
   "id": "e8cc0339-e6bb-46a0-9828-3c12aebcb1d6",
   "metadata": {},
   "outputs": [],
   "source": [
    "import example_folder.example2 as ex2\n",
    "# OR\n",
    "from example_folder import example2"
   ]
  },
  {
   "cell_type": "code",
   "execution_count": 9,
   "id": "d855c00b-0b6d-443c-a736-67bdf6aac739",
   "metadata": {},
   "outputs": [
    {
     "name": "stdout",
     "output_type": "stream",
     "text": [
      "example_folder example_folder\n"
     ]
    }
   ],
   "source": [
    "print(ex2.__package__, example2.__package__)"
   ]
  },
  {
   "cell_type": "markdown",
   "id": "36603889-35d4-4eaa-93ea-f077a933f845",
   "metadata": {},
   "source": [
    "We can also use a `__init__.py` file to create a global variables or to atutomatically import modules from the package."
   ]
  },
  {
   "cell_type": "code",
   "execution_count": 16,
   "id": "2ab895d6-1740-404d-89f9-845431d907cc",
   "metadata": {},
   "outputs": [
    {
     "data": {
      "text/html": [
       "\n",
       "        <iframe\n",
       "            width=\"680\"\n",
       "            height=\"180\"\n",
       "            src=\"visuals\\init_example.png\"\n",
       "            frameborder=\"0\"\n",
       "            allowfullscreen\n",
       "            \n",
       "        ></iframe>\n",
       "        "
      ],
      "text/plain": [
       "<IPython.lib.display.IFrame at 0x23959507c40>"
      ]
     },
     "execution_count": 16,
     "metadata": {},
     "output_type": "execute_result"
    }
   ],
   "source": [
    "from pathlib import Path\n",
    "r = Path('visuals/init_example.png')\n",
    "from IPython.display import IFrame\n",
    "IFrame(r, width=680, height=180)"
   ]
  },
  {
   "cell_type": "code",
   "execution_count": 1,
   "id": "32cb9443-f9b0-41c5-86b9-e09864902fd4",
   "metadata": {},
   "outputs": [],
   "source": [
    "from example_folder import this_is_an_example__init__variable"
   ]
  },
  {
   "cell_type": "code",
   "execution_count": 2,
   "id": "4bc64c5d-8d8f-4734-954d-eeeed05be49d",
   "metadata": {},
   "outputs": [
    {
     "name": "stdout",
     "output_type": "stream",
     "text": [
      "Pretty cool beans right?\n"
     ]
    }
   ],
   "source": [
    "print(this_is_an_example__init__variable)"
   ]
  },
  {
   "cell_type": "code",
   "execution_count": 3,
   "id": "31e4eb32-72a4-42f1-b7a4-85a1e8698ffc",
   "metadata": {},
   "outputs": [],
   "source": [
    "import example_folder"
   ]
  },
  {
   "cell_type": "code",
   "execution_count": 6,
   "id": "befd4db9-9fca-4007-851a-6285afb756ee",
   "metadata": {},
   "outputs": [
    {
     "name": "stdout",
     "output_type": "stream",
     "text": [
      "<module 'example_folder.example2' from 'E:\\\\Trilogy\\\\BackEnd\\\\Python_OOP\\\\example_folder\\\\example2.py'>\n"
     ]
    }
   ],
   "source": [
    "print(example_folder.example__init__import)"
   ]
  },
  {
   "cell_type": "code",
   "execution_count": 5,
   "id": "81881ddc-638b-4840-b1ea-2478c384b85b",
   "metadata": {},
   "outputs": [
    {
     "name": "stdout",
     "output_type": "stream",
     "text": [
      "This is the updated example2.py in another folder. Except this time we used __init__ and as a package.\n"
     ]
    }
   ],
   "source": [
    "print(example_folder.example__init__import.simple_example + ' Except this time we used __init__ and as a package.')"
   ]
  },
  {
   "cell_type": "markdown",
   "id": "8227ca8b-33b0-4ae1-a995-5b649b3c2362",
   "metadata": {},
   "source": [
    "__spec__"
   ]
  },
  {
   "cell_type": "markdown",
   "id": "7a66b3ec-b8b5-4b4f-bfd7-30581c22471c",
   "metadata": {},
   "source": [
    "From the [Python Language Reference, Part 5: The Import System](https://docs.python.org/3/reference/import.html#__spec__) (emphasis mine):\n",
    "\n",
    "The __spec__ attribute must be set to the module spec that was used when importing the module. This is used primarily for introspection and during reloading. Setting __spec__ appropriately applies equally to modules initialized during interpreter startup. The one exception is __main__, where __spec__ is set to None in some cases.\n",
    "\n",
    "New in version 3.4."
   ]
  },
  {
   "cell_type": "code",
   "execution_count": 37,
   "id": "d54b7a19-5ad7-41d0-a065-9a585c959ab1",
   "metadata": {},
   "outputs": [
    {
     "data": {
      "text/plain": [
       "ModuleSpec(name='studentclass', loader=<_frozen_importlib_external.SourceFileLoader object at 0x000001C7DB640640>, origin='E:\\\\Trilogy\\\\BackEnd\\\\Python_OOP\\\\studentclass.py')"
      ]
     },
     "execution_count": 37,
     "metadata": {},
     "output_type": "execute_result"
    }
   ],
   "source": [
    "sc.__spec__"
   ]
  },
  {
   "cell_type": "markdown",
   "id": "b770c0a7-f970-4ad1-8dbb-f40e24cfdbc9",
   "metadata": {},
   "source": [
    "Additional info:\n",
    "\\\n",
    "https://realpython.com/python-modules-packages/\n",
    "\\\n",
    "https://tenthousandmeters.com/blog/python-behind-the-scenes-11-how-the-python-import-system-works/"
   ]
  },
  {
   "cell_type": "code",
   "execution_count": null,
   "id": "058c30c7-3c43-475f-8c67-69fdc6ad5db1",
   "metadata": {},
   "outputs": [],
   "source": []
  }
 ],
 "metadata": {
  "kernelspec": {
   "display_name": "Python 3 (ipykernel)",
   "language": "python",
   "name": "python3"
  },
  "language_info": {
   "codemirror_mode": {
    "name": "ipython",
    "version": 3
   },
   "file_extension": ".py",
   "mimetype": "text/x-python",
   "name": "python",
   "nbconvert_exporter": "python",
   "pygments_lexer": "ipython3",
   "version": "3.8.8"
  }
 },
 "nbformat": 4,
 "nbformat_minor": 5
}
